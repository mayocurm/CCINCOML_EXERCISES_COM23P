{
  "nbformat": 4,
  "nbformat_minor": 0,
  "metadata": {
    "colab": {
      "provenance": [],
      "include_colab_link": true
    },
    "kernelspec": {
      "name": "python3",
      "display_name": "Python 3"
    },
    "language_info": {
      "name": "python"
    }
  },
  "cells": [
    {
      "cell_type": "markdown",
      "metadata": {
        "id": "view-in-github",
        "colab_type": "text"
      },
      "source": [
        "<a href=\"https://colab.research.google.com/github/mayocurm/CCINCOML_EXERCISES_COM23P/blob/main/FINAL_EXERCISE.ipynb\" target=\"_parent\"><img src=\"https://colab.research.google.com/assets/colab-badge.svg\" alt=\"Open In Colab\"/></a>"
      ]
    },
    {
      "cell_type": "markdown",
      "source": [
        "# Final Exercise 🌹\n",
        "\n",
        "Please follow the instructions!\n",
        "\n",
        "<img src=\"https://i.pinimg.com/originals/80/db/e7/80dbe7a37ca3ea65ecac8dace1b599cc.gif\"/>"
      ],
      "metadata": {
        "id": "1lyup4WJ0U88"
      }
    },
    {
      "cell_type": "markdown",
      "source": [
        "1. Create a list called `myname` that contains the characters of your first name"
      ],
      "metadata": {
        "id": "TNpD9hmk4_N-"
      }
    },
    {
      "cell_type": "code",
      "source": [
        "myname = list('JEZLYN')\n",
        "print(myname)"
      ],
      "metadata": {
        "id": "bpXg-iQt4-sQ",
        "outputId": "c945394b-2df8-4c4a-88a5-eb502e267f93",
        "colab": {
          "base_uri": "https://localhost:8080/"
        }
      },
      "execution_count": 75,
      "outputs": [
        {
          "output_type": "stream",
          "name": "stdout",
          "text": [
            "['J', 'E', 'Z', 'L', 'Y', 'N']\n"
          ]
        }
      ]
    },
    {
      "cell_type": "markdown",
      "source": [
        "2. Create a list called `mynumber` that contains all the numbers of your student number"
      ],
      "metadata": {
        "id": "iorlqXkq5FgY"
      }
    },
    {
      "cell_type": "code",
      "source": [
        "mynumber = list('2023102956')\n",
        "print(mynumber)"
      ],
      "metadata": {
        "id": "JciPeaYr49B7",
        "colab": {
          "base_uri": "https://localhost:8080/"
        },
        "outputId": "d08a8fa2-640f-43ae-c33e-cbb6515019ba"
      },
      "execution_count": 76,
      "outputs": [
        {
          "output_type": "stream",
          "name": "stdout",
          "text": [
            "['2', '0', '2', '3', '1', '0', '2', '9', '5', '6']\n"
          ]
        }
      ]
    },
    {
      "cell_type": "markdown",
      "source": [
        "3. Write a python function named `geteven()` that will:\n",
        "\n",
        "- Accept a list of your student number\n",
        "- Return a list with only even numbers\n",
        "\n",
        "-------------------------------------\n",
        "\n",
        "Example:\n",
        "\n",
        "mynumber = [2,0,2,3,1,2,3,4,5,6]\n",
        "\n",
        "geteven(mynumber)\n",
        "\n",
        "Output should be:\n",
        "\n",
        "[2,0,2,2,4,6]"
      ],
      "metadata": {
        "id": "yQ2wZKD-0X7_"
      }
    },
    {
      "cell_type": "code",
      "execution_count": 77,
      "metadata": {
        "id": "9HUAAC9h0Tu6",
        "colab": {
          "base_uri": "https://localhost:8080/"
        },
        "outputId": "6fd185cc-d66a-49bc-8b9d-ca0a3cd5c167"
      },
      "outputs": [
        {
          "output_type": "stream",
          "name": "stdout",
          "text": [
            "[2, 0, 2, 0, 2, 6]\n"
          ]
        }
      ],
      "source": [
        "def geteven(mynumber):\n",
        "    even_numbers = []\n",
        "\n",
        "    for digit in mynumber:\n",
        "        num = int(digit)\n",
        "        if num % 2 == 0:\n",
        "            even_numbers.append(num)\n",
        "\n",
        "    return even_numbers\n",
        "\n",
        "mynumber = '2023102956'\n",
        "number = geteven(mynumber)\n",
        "print(number)"
      ]
    },
    {
      "cell_type": "markdown",
      "source": [
        "4. Write a python function named `reverseName()` that will:\n",
        "\n",
        "- Accept a list of your name\n",
        "- Return a list of your name in reverse order\n",
        "\n",
        "-------------------------------------\n",
        "\n",
        "Example:\n",
        "\n",
        "myname = ['E', 'L', 'I', 'Z', 'E', 'R']\n",
        "\n",
        "reverseName(myname)\n",
        "\n",
        "Output should be:\n",
        "\n",
        "['R', 'E', 'Z', 'I', 'L', 'E']"
      ],
      "metadata": {
        "id": "51HBYD8V0agR"
      }
    },
    {
      "cell_type": "code",
      "source": [
        "def reverseName(myname):\n",
        "    reversed_name = list(reversed(myname))\n",
        "    return reversed_name\n",
        "\n",
        "myname = list('JEZLYN')\n",
        "name = reverseName(myname)\n",
        "print(name)"
      ],
      "metadata": {
        "id": "cwtaNJcc0a1o",
        "colab": {
          "base_uri": "https://localhost:8080/"
        },
        "outputId": "aa4c92e8-6013-4ba8-98d5-37f1792dbc4f"
      },
      "execution_count": 78,
      "outputs": [
        {
          "output_type": "stream",
          "name": "stdout",
          "text": [
            "['N', 'Y', 'L', 'Z', 'E', 'J']\n"
          ]
        }
      ]
    },
    {
      "cell_type": "markdown",
      "source": [
        "5. Write a python function named `countVowel()` that will:\n",
        "\n",
        "- Accept a list of your name\n",
        "- Return the number of vowels of your name in the list\n",
        "\n",
        "-------------------------------------\n",
        "\n",
        "Example:\n",
        "\n",
        "myname = ['E', 'L', 'I', 'Z', 'E', 'R']\n",
        "\n",
        "countVowel(myname)\n",
        "\n",
        "Output should be:\n",
        "\n",
        "3"
      ],
      "metadata": {
        "id": "z98DkSZj0bKE"
      }
    },
    {
      "cell_type": "code",
      "source": [
        "def countVowel(myname):\n",
        "    vowels = \"aeiouAEIOU\"\n",
        "    counted_vowel = sum(myname.count(char) for char in vowels)\n",
        "    return counted_vowel\n",
        "\n",
        "myname = 'JEZLYN'\n",
        "count = countVowel(myname)\n",
        "print(count)"
      ],
      "metadata": {
        "id": "djNZGq0P0bft",
        "colab": {
          "base_uri": "https://localhost:8080/"
        },
        "outputId": "f479ef92-058b-4b95-8d86-4143b07f07b4"
      },
      "execution_count": 79,
      "outputs": [
        {
          "output_type": "stream",
          "name": "stdout",
          "text": [
            "1\n"
          ]
        }
      ]
    },
    {
      "cell_type": "markdown",
      "source": [
        "## Farewell note\n",
        "\n",
        "It has been a pleasure to teach you this term even for a short period of time.\n",
        "\n",
        "I know that not all people like computer programming but please give it more time for you to find a place in your heart ❤️\n",
        "\n",
        "From my experience, people tend to learn skills when they need it and not when they want to. It is very hard to learn any skill if you do not have any use for it.\n",
        "\n",
        "The challenge for us educators is to show the next generation that programming is a very important skill and that the world needs people like you.\n",
        "\n",
        "Programming is a very fulfilling profession because you can solve the world's problems through your own creativity and passion.\n",
        "\n",
        "I hope that you can find your own purpose in life through programming and make our world a better place 🌎\n",
        "\n",
        "Your teacher,\n",
        "\n",
        "Elizer Ponio Jr."
      ],
      "metadata": {
        "id": "7YuM6TiO8Tsj"
      }
    }
  ]
}